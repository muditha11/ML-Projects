{
 "cells": [
  {
   "cell_type": "code",
   "execution_count": 91,
   "metadata": {},
   "outputs": [],
   "source": [
    "import pandas as pd\n",
    "import numpy as np\n",
    "from matplotlib import pyplot as plt\n",
    "%matplotlib inline\n",
    "import matplotlib\n",
    "matplotlib.rcParams[\"figure.figsize\"] = (10,5)\n",
    "from sklearn.model_selection import train_test_split\n",
    "from sklearn.linear_model import LinearRegression"
   ]
  },
  {
   "cell_type": "code",
   "execution_count": 92,
   "metadata": {},
   "outputs": [
    {
     "data": {
      "text/html": [
       "<div>\n",
       "<style scoped>\n",
       "    .dataframe tbody tr th:only-of-type {\n",
       "        vertical-align: middle;\n",
       "    }\n",
       "\n",
       "    .dataframe tbody tr th {\n",
       "        vertical-align: top;\n",
       "    }\n",
       "\n",
       "    .dataframe thead th {\n",
       "        text-align: right;\n",
       "    }\n",
       "</style>\n",
       "<table border=\"1\" class=\"dataframe\">\n",
       "  <thead>\n",
       "    <tr style=\"text-align: right;\">\n",
       "      <th></th>\n",
       "      <th>customer_id</th>\n",
       "      <th>account_length</th>\n",
       "      <th>location_code</th>\n",
       "      <th>intertiol_plan</th>\n",
       "      <th>voice_mail_plan</th>\n",
       "      <th>number_vm_messages</th>\n",
       "      <th>total_day_min</th>\n",
       "      <th>total_day_calls</th>\n",
       "      <th>total_day_charge</th>\n",
       "      <th>total_eve_min</th>\n",
       "      <th>...</th>\n",
       "      <th>total_eve_charge</th>\n",
       "      <th>total_night_minutes</th>\n",
       "      <th>total_night_calls</th>\n",
       "      <th>total_night_charge</th>\n",
       "      <th>total_intl_minutes</th>\n",
       "      <th>total_intl_calls</th>\n",
       "      <th>total_intl_charge</th>\n",
       "      <th>customer_service_calls</th>\n",
       "      <th>Churn</th>\n",
       "      <th>Unnamed: 20</th>\n",
       "    </tr>\n",
       "  </thead>\n",
       "  <tbody>\n",
       "    <tr>\n",
       "      <th>0</th>\n",
       "      <td>1001</td>\n",
       "      <td>15.0</td>\n",
       "      <td>452</td>\n",
       "      <td>no</td>\n",
       "      <td>no</td>\n",
       "      <td>0.0</td>\n",
       "      <td>121.1</td>\n",
       "      <td>130.0</td>\n",
       "      <td>20.59</td>\n",
       "      <td>216.0</td>\n",
       "      <td>...</td>\n",
       "      <td>18.36</td>\n",
       "      <td>235.1</td>\n",
       "      <td>33.0</td>\n",
       "      <td>10.58</td>\n",
       "      <td>16.1</td>\n",
       "      <td>5.0</td>\n",
       "      <td>4.35</td>\n",
       "      <td>2.0</td>\n",
       "      <td>No</td>\n",
       "      <td>NaN</td>\n",
       "    </tr>\n",
       "    <tr>\n",
       "      <th>1</th>\n",
       "      <td>1002</td>\n",
       "      <td>105.0</td>\n",
       "      <td>452</td>\n",
       "      <td>no</td>\n",
       "      <td>no</td>\n",
       "      <td>0.0</td>\n",
       "      <td>259.3</td>\n",
       "      <td>96.0</td>\n",
       "      <td>44.08</td>\n",
       "      <td>175.2</td>\n",
       "      <td>...</td>\n",
       "      <td>14.89</td>\n",
       "      <td>222.4</td>\n",
       "      <td>36.0</td>\n",
       "      <td>10.01</td>\n",
       "      <td>12.0</td>\n",
       "      <td>5.0</td>\n",
       "      <td>3.24</td>\n",
       "      <td>3.0</td>\n",
       "      <td>No</td>\n",
       "      <td>NaN</td>\n",
       "    </tr>\n",
       "    <tr>\n",
       "      <th>2</th>\n",
       "      <td>1003</td>\n",
       "      <td>97.0</td>\n",
       "      <td>452</td>\n",
       "      <td>no</td>\n",
       "      <td>yes</td>\n",
       "      <td>32.0</td>\n",
       "      <td>183.4</td>\n",
       "      <td>94.0</td>\n",
       "      <td>31.18</td>\n",
       "      <td>269.1</td>\n",
       "      <td>...</td>\n",
       "      <td>22.87</td>\n",
       "      <td>203.5</td>\n",
       "      <td>38.0</td>\n",
       "      <td>9.16</td>\n",
       "      <td>6.7</td>\n",
       "      <td>4.0</td>\n",
       "      <td>1.81</td>\n",
       "      <td>5.0</td>\n",
       "      <td>No</td>\n",
       "      <td>NaN</td>\n",
       "    </tr>\n",
       "    <tr>\n",
       "      <th>3</th>\n",
       "      <td>1004</td>\n",
       "      <td>121.0</td>\n",
       "      <td>445</td>\n",
       "      <td>no</td>\n",
       "      <td>yes</td>\n",
       "      <td>35.0</td>\n",
       "      <td>68.7</td>\n",
       "      <td>95.0</td>\n",
       "      <td>11.68</td>\n",
       "      <td>209.2</td>\n",
       "      <td>...</td>\n",
       "      <td>17.78</td>\n",
       "      <td>197.4</td>\n",
       "      <td>42.0</td>\n",
       "      <td>8.88</td>\n",
       "      <td>11.4</td>\n",
       "      <td>4.0</td>\n",
       "      <td>3.08</td>\n",
       "      <td>1.0</td>\n",
       "      <td>No</td>\n",
       "      <td>NaN</td>\n",
       "    </tr>\n",
       "    <tr>\n",
       "      <th>4</th>\n",
       "      <td>1005</td>\n",
       "      <td>98.0</td>\n",
       "      <td>452</td>\n",
       "      <td>no</td>\n",
       "      <td>yes</td>\n",
       "      <td>22.0</td>\n",
       "      <td>278.3</td>\n",
       "      <td>89.0</td>\n",
       "      <td>47.31</td>\n",
       "      <td>93.4</td>\n",
       "      <td>...</td>\n",
       "      <td>7.94</td>\n",
       "      <td>107.6</td>\n",
       "      <td>42.0</td>\n",
       "      <td>4.84</td>\n",
       "      <td>9.7</td>\n",
       "      <td>5.0</td>\n",
       "      <td>2.62</td>\n",
       "      <td>0.0</td>\n",
       "      <td>No</td>\n",
       "      <td>NaN</td>\n",
       "    </tr>\n",
       "    <tr>\n",
       "      <th>...</th>\n",
       "      <td>...</td>\n",
       "      <td>...</td>\n",
       "      <td>...</td>\n",
       "      <td>...</td>\n",
       "      <td>...</td>\n",
       "      <td>...</td>\n",
       "      <td>...</td>\n",
       "      <td>...</td>\n",
       "      <td>...</td>\n",
       "      <td>...</td>\n",
       "      <td>...</td>\n",
       "      <td>...</td>\n",
       "      <td>...</td>\n",
       "      <td>...</td>\n",
       "      <td>...</td>\n",
       "      <td>...</td>\n",
       "      <td>...</td>\n",
       "      <td>...</td>\n",
       "      <td>...</td>\n",
       "      <td>...</td>\n",
       "      <td>...</td>\n",
       "    </tr>\n",
       "    <tr>\n",
       "      <th>2316</th>\n",
       "      <td>3317</td>\n",
       "      <td>109.0</td>\n",
       "      <td>452</td>\n",
       "      <td>no</td>\n",
       "      <td>no</td>\n",
       "      <td>0.0</td>\n",
       "      <td>180.0</td>\n",
       "      <td>100.0</td>\n",
       "      <td>30.60</td>\n",
       "      <td>229.0</td>\n",
       "      <td>...</td>\n",
       "      <td>19.47</td>\n",
       "      <td>139.4</td>\n",
       "      <td>105.0</td>\n",
       "      <td>6.27</td>\n",
       "      <td>7.8</td>\n",
       "      <td>8.0</td>\n",
       "      <td>2.11</td>\n",
       "      <td>3.0</td>\n",
       "      <td>No</td>\n",
       "      <td>NaN</td>\n",
       "    </tr>\n",
       "    <tr>\n",
       "      <th>2317</th>\n",
       "      <td>3318</td>\n",
       "      <td>185.0</td>\n",
       "      <td>452</td>\n",
       "      <td>yes</td>\n",
       "      <td>yes</td>\n",
       "      <td>30.0</td>\n",
       "      <td>154.1</td>\n",
       "      <td>114.0</td>\n",
       "      <td>26.20</td>\n",
       "      <td>118.7</td>\n",
       "      <td>...</td>\n",
       "      <td>10.09</td>\n",
       "      <td>258.4</td>\n",
       "      <td>105.0</td>\n",
       "      <td>11.63</td>\n",
       "      <td>12.9</td>\n",
       "      <td>3.0</td>\n",
       "      <td>3.48</td>\n",
       "      <td>2.0</td>\n",
       "      <td>No</td>\n",
       "      <td>NaN</td>\n",
       "    </tr>\n",
       "    <tr>\n",
       "      <th>2318</th>\n",
       "      <td>3319</td>\n",
       "      <td>55.0</td>\n",
       "      <td>452</td>\n",
       "      <td>yes</td>\n",
       "      <td>no</td>\n",
       "      <td>0.0</td>\n",
       "      <td>188.9</td>\n",
       "      <td>88.0</td>\n",
       "      <td>34.62</td>\n",
       "      <td>270.1</td>\n",
       "      <td>...</td>\n",
       "      <td>22.77</td>\n",
       "      <td>209.7</td>\n",
       "      <td>105.0</td>\n",
       "      <td>9.17</td>\n",
       "      <td>14.3</td>\n",
       "      <td>5.0</td>\n",
       "      <td>3.86</td>\n",
       "      <td>1.0</td>\n",
       "      <td>Yes</td>\n",
       "      <td>NaN</td>\n",
       "    </tr>\n",
       "    <tr>\n",
       "      <th>2319</th>\n",
       "      <td>3320</td>\n",
       "      <td>138.0</td>\n",
       "      <td>547</td>\n",
       "      <td>yes</td>\n",
       "      <td>no</td>\n",
       "      <td>0.0</td>\n",
       "      <td>191.2</td>\n",
       "      <td>130.0</td>\n",
       "      <td>32.35</td>\n",
       "      <td>164.5</td>\n",
       "      <td>...</td>\n",
       "      <td>14.00</td>\n",
       "      <td>241.4</td>\n",
       "      <td>105.0</td>\n",
       "      <td>10.46</td>\n",
       "      <td>15.2</td>\n",
       "      <td>1.0</td>\n",
       "      <td>4.10</td>\n",
       "      <td>0.0</td>\n",
       "      <td>Yes</td>\n",
       "      <td>NaN</td>\n",
       "    </tr>\n",
       "    <tr>\n",
       "      <th>2320</th>\n",
       "      <td>3321</td>\n",
       "      <td>24.0</td>\n",
       "      <td>547</td>\n",
       "      <td>no</td>\n",
       "      <td>no</td>\n",
       "      <td>0.0</td>\n",
       "      <td>251.0</td>\n",
       "      <td>95.0</td>\n",
       "      <td>40.31</td>\n",
       "      <td>179.9</td>\n",
       "      <td>...</td>\n",
       "      <td>16.63</td>\n",
       "      <td>189.3</td>\n",
       "      <td>105.0</td>\n",
       "      <td>8.29</td>\n",
       "      <td>15.3</td>\n",
       "      <td>7.0</td>\n",
       "      <td>4.13</td>\n",
       "      <td>0.0</td>\n",
       "      <td>Yes</td>\n",
       "      <td>NaN</td>\n",
       "    </tr>\n",
       "  </tbody>\n",
       "</table>\n",
       "<p>2321 rows × 21 columns</p>\n",
       "</div>"
      ],
      "text/plain": [
       "      customer_id  account_length  location_code intertiol_plan  \\\n",
       "0            1001            15.0            452             no   \n",
       "1            1002           105.0            452             no   \n",
       "2            1003            97.0            452             no   \n",
       "3            1004           121.0            445             no   \n",
       "4            1005            98.0            452             no   \n",
       "...           ...             ...            ...            ...   \n",
       "2316         3317           109.0            452             no   \n",
       "2317         3318           185.0            452            yes   \n",
       "2318         3319            55.0            452            yes   \n",
       "2319         3320           138.0            547            yes   \n",
       "2320         3321            24.0            547             no   \n",
       "\n",
       "     voice_mail_plan  number_vm_messages  total_day_min  total_day_calls  \\\n",
       "0                 no                 0.0          121.1            130.0   \n",
       "1                 no                 0.0          259.3             96.0   \n",
       "2                yes                32.0          183.4             94.0   \n",
       "3                yes                35.0           68.7             95.0   \n",
       "4                yes                22.0          278.3             89.0   \n",
       "...              ...                 ...            ...              ...   \n",
       "2316              no                 0.0          180.0            100.0   \n",
       "2317             yes                30.0          154.1            114.0   \n",
       "2318              no                 0.0          188.9             88.0   \n",
       "2319              no                 0.0          191.2            130.0   \n",
       "2320              no                 0.0          251.0             95.0   \n",
       "\n",
       "      total_day_charge  total_eve_min  ...  total_eve_charge  \\\n",
       "0                20.59          216.0  ...             18.36   \n",
       "1                44.08          175.2  ...             14.89   \n",
       "2                31.18          269.1  ...             22.87   \n",
       "3                11.68          209.2  ...             17.78   \n",
       "4                47.31           93.4  ...              7.94   \n",
       "...                ...            ...  ...               ...   \n",
       "2316             30.60          229.0  ...             19.47   \n",
       "2317             26.20          118.7  ...             10.09   \n",
       "2318             34.62          270.1  ...             22.77   \n",
       "2319             32.35          164.5  ...             14.00   \n",
       "2320             40.31          179.9  ...             16.63   \n",
       "\n",
       "      total_night_minutes  total_night_calls  total_night_charge  \\\n",
       "0                   235.1               33.0               10.58   \n",
       "1                   222.4               36.0               10.01   \n",
       "2                   203.5               38.0                9.16   \n",
       "3                   197.4               42.0                8.88   \n",
       "4                   107.6               42.0                4.84   \n",
       "...                   ...                ...                 ...   \n",
       "2316                139.4              105.0                6.27   \n",
       "2317                258.4              105.0               11.63   \n",
       "2318                209.7              105.0                9.17   \n",
       "2319                241.4              105.0               10.46   \n",
       "2320                189.3              105.0                8.29   \n",
       "\n",
       "      total_intl_minutes  total_intl_calls  total_intl_charge  \\\n",
       "0                   16.1               5.0               4.35   \n",
       "1                   12.0               5.0               3.24   \n",
       "2                    6.7               4.0               1.81   \n",
       "3                   11.4               4.0               3.08   \n",
       "4                    9.7               5.0               2.62   \n",
       "...                  ...               ...                ...   \n",
       "2316                 7.8               8.0               2.11   \n",
       "2317                12.9               3.0               3.48   \n",
       "2318                14.3               5.0               3.86   \n",
       "2319                15.2               1.0               4.10   \n",
       "2320                15.3               7.0               4.13   \n",
       "\n",
       "      customer_service_calls  Churn Unnamed: 20  \n",
       "0                        2.0     No         NaN  \n",
       "1                        3.0     No         NaN  \n",
       "2                        5.0     No         NaN  \n",
       "3                        1.0     No         NaN  \n",
       "4                        0.0     No         NaN  \n",
       "...                      ...    ...         ...  \n",
       "2316                     3.0     No         NaN  \n",
       "2317                     2.0     No         NaN  \n",
       "2318                     1.0    Yes         NaN  \n",
       "2319                     0.0    Yes         NaN  \n",
       "2320                     0.0    Yes         NaN  \n",
       "\n",
       "[2321 rows x 21 columns]"
      ]
     },
     "execution_count": 92,
     "metadata": {},
     "output_type": "execute_result"
    }
   ],
   "source": [
    "df = pd.read_csv(\"Train_Dataset.csv\")\n",
    "df"
   ]
  },
  {
   "cell_type": "code",
   "execution_count": 93,
   "metadata": {},
   "outputs": [
    {
     "data": {
      "text/html": [
       "<div>\n",
       "<style scoped>\n",
       "    .dataframe tbody tr th:only-of-type {\n",
       "        vertical-align: middle;\n",
       "    }\n",
       "\n",
       "    .dataframe tbody tr th {\n",
       "        vertical-align: top;\n",
       "    }\n",
       "\n",
       "    .dataframe thead th {\n",
       "        text-align: right;\n",
       "    }\n",
       "</style>\n",
       "<table border=\"1\" class=\"dataframe\">\n",
       "  <thead>\n",
       "    <tr style=\"text-align: right;\">\n",
       "      <th></th>\n",
       "      <th>customer_id</th>\n",
       "      <th>account_length</th>\n",
       "      <th>location_code</th>\n",
       "      <th>intertiol_plan</th>\n",
       "      <th>voice_mail_plan</th>\n",
       "      <th>number_vm_messages</th>\n",
       "      <th>total_day_min</th>\n",
       "      <th>total_day_calls</th>\n",
       "      <th>total_day_charge</th>\n",
       "      <th>total_eve_min</th>\n",
       "      <th>...</th>\n",
       "      <th>total_eve_charge</th>\n",
       "      <th>total_night_minutes</th>\n",
       "      <th>total_night_calls</th>\n",
       "      <th>total_night_charge</th>\n",
       "      <th>total_intl_minutes</th>\n",
       "      <th>total_intl_calls</th>\n",
       "      <th>total_intl_charge</th>\n",
       "      <th>customer_service_calls</th>\n",
       "      <th>Churn</th>\n",
       "      <th>Unnamed: 20</th>\n",
       "    </tr>\n",
       "  </thead>\n",
       "  <tbody>\n",
       "    <tr>\n",
       "      <th>0</th>\n",
       "      <td>1001</td>\n",
       "      <td>15.0</td>\n",
       "      <td>452</td>\n",
       "      <td>False</td>\n",
       "      <td>False</td>\n",
       "      <td>0.0</td>\n",
       "      <td>121.1</td>\n",
       "      <td>130.0</td>\n",
       "      <td>20.59</td>\n",
       "      <td>216.0</td>\n",
       "      <td>...</td>\n",
       "      <td>18.36</td>\n",
       "      <td>235.1</td>\n",
       "      <td>33.0</td>\n",
       "      <td>10.58</td>\n",
       "      <td>16.1</td>\n",
       "      <td>5.0</td>\n",
       "      <td>4.35</td>\n",
       "      <td>2.0</td>\n",
       "      <td>False</td>\n",
       "      <td>NaN</td>\n",
       "    </tr>\n",
       "    <tr>\n",
       "      <th>1</th>\n",
       "      <td>1002</td>\n",
       "      <td>105.0</td>\n",
       "      <td>452</td>\n",
       "      <td>False</td>\n",
       "      <td>False</td>\n",
       "      <td>0.0</td>\n",
       "      <td>259.3</td>\n",
       "      <td>96.0</td>\n",
       "      <td>44.08</td>\n",
       "      <td>175.2</td>\n",
       "      <td>...</td>\n",
       "      <td>14.89</td>\n",
       "      <td>222.4</td>\n",
       "      <td>36.0</td>\n",
       "      <td>10.01</td>\n",
       "      <td>12.0</td>\n",
       "      <td>5.0</td>\n",
       "      <td>3.24</td>\n",
       "      <td>3.0</td>\n",
       "      <td>False</td>\n",
       "      <td>NaN</td>\n",
       "    </tr>\n",
       "    <tr>\n",
       "      <th>2</th>\n",
       "      <td>1003</td>\n",
       "      <td>97.0</td>\n",
       "      <td>452</td>\n",
       "      <td>False</td>\n",
       "      <td>True</td>\n",
       "      <td>32.0</td>\n",
       "      <td>183.4</td>\n",
       "      <td>94.0</td>\n",
       "      <td>31.18</td>\n",
       "      <td>269.1</td>\n",
       "      <td>...</td>\n",
       "      <td>22.87</td>\n",
       "      <td>203.5</td>\n",
       "      <td>38.0</td>\n",
       "      <td>9.16</td>\n",
       "      <td>6.7</td>\n",
       "      <td>4.0</td>\n",
       "      <td>1.81</td>\n",
       "      <td>5.0</td>\n",
       "      <td>False</td>\n",
       "      <td>NaN</td>\n",
       "    </tr>\n",
       "    <tr>\n",
       "      <th>3</th>\n",
       "      <td>1004</td>\n",
       "      <td>121.0</td>\n",
       "      <td>445</td>\n",
       "      <td>False</td>\n",
       "      <td>True</td>\n",
       "      <td>35.0</td>\n",
       "      <td>68.7</td>\n",
       "      <td>95.0</td>\n",
       "      <td>11.68</td>\n",
       "      <td>209.2</td>\n",
       "      <td>...</td>\n",
       "      <td>17.78</td>\n",
       "      <td>197.4</td>\n",
       "      <td>42.0</td>\n",
       "      <td>8.88</td>\n",
       "      <td>11.4</td>\n",
       "      <td>4.0</td>\n",
       "      <td>3.08</td>\n",
       "      <td>1.0</td>\n",
       "      <td>False</td>\n",
       "      <td>NaN</td>\n",
       "    </tr>\n",
       "    <tr>\n",
       "      <th>4</th>\n",
       "      <td>1005</td>\n",
       "      <td>98.0</td>\n",
       "      <td>452</td>\n",
       "      <td>False</td>\n",
       "      <td>True</td>\n",
       "      <td>22.0</td>\n",
       "      <td>278.3</td>\n",
       "      <td>89.0</td>\n",
       "      <td>47.31</td>\n",
       "      <td>93.4</td>\n",
       "      <td>...</td>\n",
       "      <td>7.94</td>\n",
       "      <td>107.6</td>\n",
       "      <td>42.0</td>\n",
       "      <td>4.84</td>\n",
       "      <td>9.7</td>\n",
       "      <td>5.0</td>\n",
       "      <td>2.62</td>\n",
       "      <td>0.0</td>\n",
       "      <td>False</td>\n",
       "      <td>NaN</td>\n",
       "    </tr>\n",
       "    <tr>\n",
       "      <th>...</th>\n",
       "      <td>...</td>\n",
       "      <td>...</td>\n",
       "      <td>...</td>\n",
       "      <td>...</td>\n",
       "      <td>...</td>\n",
       "      <td>...</td>\n",
       "      <td>...</td>\n",
       "      <td>...</td>\n",
       "      <td>...</td>\n",
       "      <td>...</td>\n",
       "      <td>...</td>\n",
       "      <td>...</td>\n",
       "      <td>...</td>\n",
       "      <td>...</td>\n",
       "      <td>...</td>\n",
       "      <td>...</td>\n",
       "      <td>...</td>\n",
       "      <td>...</td>\n",
       "      <td>...</td>\n",
       "      <td>...</td>\n",
       "      <td>...</td>\n",
       "    </tr>\n",
       "    <tr>\n",
       "      <th>2316</th>\n",
       "      <td>3317</td>\n",
       "      <td>109.0</td>\n",
       "      <td>452</td>\n",
       "      <td>False</td>\n",
       "      <td>False</td>\n",
       "      <td>0.0</td>\n",
       "      <td>180.0</td>\n",
       "      <td>100.0</td>\n",
       "      <td>30.60</td>\n",
       "      <td>229.0</td>\n",
       "      <td>...</td>\n",
       "      <td>19.47</td>\n",
       "      <td>139.4</td>\n",
       "      <td>105.0</td>\n",
       "      <td>6.27</td>\n",
       "      <td>7.8</td>\n",
       "      <td>8.0</td>\n",
       "      <td>2.11</td>\n",
       "      <td>3.0</td>\n",
       "      <td>False</td>\n",
       "      <td>NaN</td>\n",
       "    </tr>\n",
       "    <tr>\n",
       "      <th>2317</th>\n",
       "      <td>3318</td>\n",
       "      <td>185.0</td>\n",
       "      <td>452</td>\n",
       "      <td>True</td>\n",
       "      <td>True</td>\n",
       "      <td>30.0</td>\n",
       "      <td>154.1</td>\n",
       "      <td>114.0</td>\n",
       "      <td>26.20</td>\n",
       "      <td>118.7</td>\n",
       "      <td>...</td>\n",
       "      <td>10.09</td>\n",
       "      <td>258.4</td>\n",
       "      <td>105.0</td>\n",
       "      <td>11.63</td>\n",
       "      <td>12.9</td>\n",
       "      <td>3.0</td>\n",
       "      <td>3.48</td>\n",
       "      <td>2.0</td>\n",
       "      <td>False</td>\n",
       "      <td>NaN</td>\n",
       "    </tr>\n",
       "    <tr>\n",
       "      <th>2318</th>\n",
       "      <td>3319</td>\n",
       "      <td>55.0</td>\n",
       "      <td>452</td>\n",
       "      <td>True</td>\n",
       "      <td>False</td>\n",
       "      <td>0.0</td>\n",
       "      <td>188.9</td>\n",
       "      <td>88.0</td>\n",
       "      <td>34.62</td>\n",
       "      <td>270.1</td>\n",
       "      <td>...</td>\n",
       "      <td>22.77</td>\n",
       "      <td>209.7</td>\n",
       "      <td>105.0</td>\n",
       "      <td>9.17</td>\n",
       "      <td>14.3</td>\n",
       "      <td>5.0</td>\n",
       "      <td>3.86</td>\n",
       "      <td>1.0</td>\n",
       "      <td>True</td>\n",
       "      <td>NaN</td>\n",
       "    </tr>\n",
       "    <tr>\n",
       "      <th>2319</th>\n",
       "      <td>3320</td>\n",
       "      <td>138.0</td>\n",
       "      <td>547</td>\n",
       "      <td>True</td>\n",
       "      <td>False</td>\n",
       "      <td>0.0</td>\n",
       "      <td>191.2</td>\n",
       "      <td>130.0</td>\n",
       "      <td>32.35</td>\n",
       "      <td>164.5</td>\n",
       "      <td>...</td>\n",
       "      <td>14.00</td>\n",
       "      <td>241.4</td>\n",
       "      <td>105.0</td>\n",
       "      <td>10.46</td>\n",
       "      <td>15.2</td>\n",
       "      <td>1.0</td>\n",
       "      <td>4.10</td>\n",
       "      <td>0.0</td>\n",
       "      <td>True</td>\n",
       "      <td>NaN</td>\n",
       "    </tr>\n",
       "    <tr>\n",
       "      <th>2320</th>\n",
       "      <td>3321</td>\n",
       "      <td>24.0</td>\n",
       "      <td>547</td>\n",
       "      <td>False</td>\n",
       "      <td>False</td>\n",
       "      <td>0.0</td>\n",
       "      <td>251.0</td>\n",
       "      <td>95.0</td>\n",
       "      <td>40.31</td>\n",
       "      <td>179.9</td>\n",
       "      <td>...</td>\n",
       "      <td>16.63</td>\n",
       "      <td>189.3</td>\n",
       "      <td>105.0</td>\n",
       "      <td>8.29</td>\n",
       "      <td>15.3</td>\n",
       "      <td>7.0</td>\n",
       "      <td>4.13</td>\n",
       "      <td>0.0</td>\n",
       "      <td>True</td>\n",
       "      <td>NaN</td>\n",
       "    </tr>\n",
       "  </tbody>\n",
       "</table>\n",
       "<p>2321 rows × 21 columns</p>\n",
       "</div>"
      ],
      "text/plain": [
       "      customer_id  account_length  location_code  intertiol_plan  \\\n",
       "0            1001            15.0            452           False   \n",
       "1            1002           105.0            452           False   \n",
       "2            1003            97.0            452           False   \n",
       "3            1004           121.0            445           False   \n",
       "4            1005            98.0            452           False   \n",
       "...           ...             ...            ...             ...   \n",
       "2316         3317           109.0            452           False   \n",
       "2317         3318           185.0            452            True   \n",
       "2318         3319            55.0            452            True   \n",
       "2319         3320           138.0            547            True   \n",
       "2320         3321            24.0            547           False   \n",
       "\n",
       "      voice_mail_plan  number_vm_messages  total_day_min  total_day_calls  \\\n",
       "0               False                 0.0          121.1            130.0   \n",
       "1               False                 0.0          259.3             96.0   \n",
       "2                True                32.0          183.4             94.0   \n",
       "3                True                35.0           68.7             95.0   \n",
       "4                True                22.0          278.3             89.0   \n",
       "...               ...                 ...            ...              ...   \n",
       "2316            False                 0.0          180.0            100.0   \n",
       "2317             True                30.0          154.1            114.0   \n",
       "2318            False                 0.0          188.9             88.0   \n",
       "2319            False                 0.0          191.2            130.0   \n",
       "2320            False                 0.0          251.0             95.0   \n",
       "\n",
       "      total_day_charge  total_eve_min  ...  total_eve_charge  \\\n",
       "0                20.59          216.0  ...             18.36   \n",
       "1                44.08          175.2  ...             14.89   \n",
       "2                31.18          269.1  ...             22.87   \n",
       "3                11.68          209.2  ...             17.78   \n",
       "4                47.31           93.4  ...              7.94   \n",
       "...                ...            ...  ...               ...   \n",
       "2316             30.60          229.0  ...             19.47   \n",
       "2317             26.20          118.7  ...             10.09   \n",
       "2318             34.62          270.1  ...             22.77   \n",
       "2319             32.35          164.5  ...             14.00   \n",
       "2320             40.31          179.9  ...             16.63   \n",
       "\n",
       "      total_night_minutes  total_night_calls  total_night_charge  \\\n",
       "0                   235.1               33.0               10.58   \n",
       "1                   222.4               36.0               10.01   \n",
       "2                   203.5               38.0                9.16   \n",
       "3                   197.4               42.0                8.88   \n",
       "4                   107.6               42.0                4.84   \n",
       "...                   ...                ...                 ...   \n",
       "2316                139.4              105.0                6.27   \n",
       "2317                258.4              105.0               11.63   \n",
       "2318                209.7              105.0                9.17   \n",
       "2319                241.4              105.0               10.46   \n",
       "2320                189.3              105.0                8.29   \n",
       "\n",
       "      total_intl_minutes  total_intl_calls  total_intl_charge  \\\n",
       "0                   16.1               5.0               4.35   \n",
       "1                   12.0               5.0               3.24   \n",
       "2                    6.7               4.0               1.81   \n",
       "3                   11.4               4.0               3.08   \n",
       "4                    9.7               5.0               2.62   \n",
       "...                  ...               ...                ...   \n",
       "2316                 7.8               8.0               2.11   \n",
       "2317                12.9               3.0               3.48   \n",
       "2318                14.3               5.0               3.86   \n",
       "2319                15.2               1.0               4.10   \n",
       "2320                15.3               7.0               4.13   \n",
       "\n",
       "      customer_service_calls  Churn  Unnamed: 20  \n",
       "0                        2.0  False          NaN  \n",
       "1                        3.0  False          NaN  \n",
       "2                        5.0  False          NaN  \n",
       "3                        1.0  False          NaN  \n",
       "4                        0.0  False          NaN  \n",
       "...                      ...    ...          ...  \n",
       "2316                     3.0  False          NaN  \n",
       "2317                     2.0  False          NaN  \n",
       "2318                     1.0   True          NaN  \n",
       "2319                     0.0   True          NaN  \n",
       "2320                     0.0   True          NaN  \n",
       "\n",
       "[2321 rows x 21 columns]"
      ]
     },
     "execution_count": 93,
     "metadata": {},
     "output_type": "execute_result"
    }
   ],
   "source": [
    "df['Churn'] = df['Churn'] == 'Yes' \n",
    "df['intertiol_plan'] = df['intertiol_plan'] == 'yes'\n",
    "df['voice_mail_plan'] = df['voice_mail_plan'] == 'yes'\n",
    "df"
   ]
  },
  {
   "cell_type": "markdown",
   "metadata": {},
   "source": [
    "## Data visualization"
   ]
  },
  {
   "cell_type": "code",
   "execution_count": 94,
   "metadata": {},
   "outputs": [
    {
     "data": {
      "text/plain": [
       "Text(0.5, 1.0, 'voice_mail_plan')"
      ]
     },
     "execution_count": 94,
     "metadata": {},
     "output_type": "execute_result"
    },
    {
     "data": {
      "image/png": "[encoded data removed]",
      "text/plain": [
       "<Figure size 1440x1440 with 18 Axes>"
      ]
     },
     "metadata": {
      "needs_background": "light"
     },
     "output_type": "display_data"
    }
   ],
   "source": [
    "fig, ax  = plt.subplots(9,2,figsize = (20,20),sharey=True)\n",
    "\n",
    "ax[0][0].scatter(df9['number_vm_messages'],df9['Churn'])\n",
    "ax[0][0].set_title(\"number_vm_messages\")\n",
    "\n",
    "ax[0][1].scatter(df9['total_day_min'],df9['Churn'])\n",
    "ax[0][1].set_title(\"total_day_min\")\n",
    "\n",
    "ax[1][0].scatter(df9['total_day_calls'],df9['Churn'])\n",
    "ax[1][0].set_title(\"total_day_calls\")\n",
    "\n",
    "ax[1][1].scatter(df9['total_day_charge'],df9['Churn'])\n",
    "ax[1][1].set_title(\"total_day_charge\")\n",
    "\n",
    "ax[2][0].scatter(df9['total_eve_min'],df9['Churn'])\n",
    "ax[2][0].set_title(\"total_eve_min\")\n",
    "\n",
    "ax[2][1].scatter(df9['total_eve_calls'],df9['Churn'])\n",
    "ax[2][1].set_title(\"total_eve_calls\")\n",
    "\n",
    "ax[3][0].scatter(df9['total_eve_charge'],df9['Churn'])\n",
    "ax[3][0].set_title(\"total_eve_charge\")\n",
    "\n",
    "ax[3][1].scatter(df['total_night_minutes'],df['Churn'])\n",
    "ax[3][1].set_title(\"total_night_minutes\")\n",
    "\n",
    "ax[4][0].scatter(df['total_night_calls'],df['Churn'])\n",
    "ax[4][0].set_title(\"total_night_calls\")\n",
    "\n",
    "ax[4][1].scatter(df['total_night_charge'],df['Churn'])\n",
    "ax[4][1].set_title(\"total_night_charge\")\n",
    "\n",
    "ax[5][0].scatter(df['total_intl_minutes'],df['Churn'])\n",
    "ax[5][0].set_title(\"total_intl_minutes\")\n",
    "\n",
    "ax[5][1].scatter(df['total_intl_calls'],df['Churn'])\n",
    "ax[5][1].set_title(\"total_intl_calls\")\n",
    "\n",
    "ax[6][0].scatter(df['total_intl_charge'],df['Churn'])\n",
    "ax[6][0].set_title(\"total_intl_charge\")\n",
    "\n",
    "ax[6][1].scatter(df['customer_service_calls'],df['Churn'])\n",
    "ax[6][1].set_title(\"customer_service_calls \")\n",
    "\n",
    "ax[7][0].scatter(df['account_length'],df['Churn'])\n",
    "ax[7][0].set_title(\"account_length\")\n",
    "\n",
    "ax[7][1].scatter(df['location_code'],df['Churn'])\n",
    "ax[7][1].set_title(\"location_code\")\n",
    "\n",
    "ax[8][0].scatter(df['intertiol_plan'],df['Churn'])\n",
    "ax[8][0].set_title(\"international_plan \")\n",
    "\n",
    "ax[8][1].scatter(df['voice_mail_plan'],df['Churn'])\n",
    "ax[8][1].set_title(\"voice_mail_plan\")\n",
    "\n",
    "\n"
   ]
  },
  {
   "cell_type": "markdown",
   "metadata": {},
   "source": [
    "There are some features with negetive values for call minutes. These are clearly outliers"
   ]
  },
  {
   "cell_type": "markdown",
   "metadata": {},
   "source": [
    "## Outlier Removal"
   ]
  },
  {
   "cell_type": "markdown",
   "metadata": {},
   "source": [
    "### vm_messages"
   ]
  },
  {
   "cell_type": "code",
   "execution_count": 95,
   "metadata": {},
   "outputs": [
    {
     "data": {
      "text/plain": [
       "count    2318.000000\n",
       "mean        7.557377\n",
       "std        14.250001\n",
       "min      -202.000000\n",
       "25%         0.000000\n",
       "50%         0.000000\n",
       "75%        14.000000\n",
       "max        51.000000\n",
       "Name: number_vm_messages, dtype: float64"
      ]
     },
     "execution_count": 95,
     "metadata": {},
     "output_type": "execute_result"
    }
   ],
   "source": [
    "df.number_vm_messages.describe()"
   ]
  },
  {
   "cell_type": "code",
   "execution_count": 96,
   "metadata": {},
   "outputs": [
    {
     "data": {
      "text/plain": [
       "array([   0.,   32.,   35.,   22.,   17.,   42.,   31.,   30.,   28.,\n",
       "         29.,   25.,   33.,   41.,   23.,   46.,   38.,   34.,   36.,\n",
       "         19.,   27.,   24.,   39.,    9.,   45.,   nan,   40.,   13.,\n",
       "         18.,   37.,   26.,   21.,   14.,   20.,   44.,   43.,   12.,\n",
       "         16.,   15.,   51.,    4.,   48.,   11., -202.,   47.,   50.])"
      ]
     },
     "execution_count": 96,
     "metadata": {},
     "output_type": "execute_result"
    }
   ],
   "source": [
    "df.number_vm_messages.unique()"
   ]
  },
  {
   "cell_type": "code",
   "execution_count": 97,
   "metadata": {},
   "outputs": [
    {
     "data": {
      "text/plain": [
       "(2321, 21)"
      ]
     },
     "execution_count": 97,
     "metadata": {},
     "output_type": "execute_result"
    }
   ],
   "source": [
    "df.shape"
   ]
  },
  {
   "cell_type": "code",
   "execution_count": 98,
   "metadata": {},
   "outputs": [
    {
     "data": {
      "text/plain": [
       "array([ 0., 32., 35., 22., 17., 42., 31., 30., 28., 29., 25., 33., 41.,\n",
       "       23., 46., 38., 34., 36., 19., 27., 24., 39.,  9., 45., 40., 13.,\n",
       "       18., 37., 26., 21., 14., 20., 44., 43., 12., 16., 15., 51.,  4.,\n",
       "       48., 11., 47., 50.])"
      ]
     },
     "execution_count": 98,
     "metadata": {},
     "output_type": "execute_result"
    }
   ],
   "source": [
    "df1= df[df.number_vm_messages>=0]\n",
    "df1.number_vm_messages.unique()"
   ]
  },
  {
   "cell_type": "code",
   "execution_count": 99,
   "metadata": {},
   "outputs": [
    {
     "data": {
      "text/plain": [
       "<matplotlib.collections.PathCollection at 0x1f39b199c10>"
      ]
     },
     "execution_count": 99,
     "metadata": {},
     "output_type": "execute_result"
    },
    {
     "data": {
      "image/png": "[encoded data removed]",
      "text/plain": [
       "<Figure size 720x360 with 1 Axes>"
      ]
     },
     "metadata": {
      "needs_background": "light"
     },
     "output_type": "display_data"
    }
   ],
   "source": [
    "plt.scatter(df1['number_vm_messages'],df1['Churn'])"
   ]
  },
  {
   "cell_type": "code",
   "execution_count": 100,
   "metadata": {},
   "outputs": [
    {
     "data": {
      "text/plain": [
       "(2317, 21)"
      ]
     },
     "execution_count": 100,
     "metadata": {},
     "output_type": "execute_result"
    }
   ],
   "source": [
    "df1.shape"
   ]
  },
  {
   "cell_type": "markdown",
   "metadata": {},
   "source": [
    "### total day min"
   ]
  },
  {
   "cell_type": "code",
   "execution_count": 101,
   "metadata": {},
   "outputs": [
    {
     "data": {
      "text/plain": [
       "array([121.1, 259.3, 183.4, ..., 102. , 272.1, 191.2])"
      ]
     },
     "execution_count": 101,
     "metadata": {},
     "output_type": "execute_result"
    }
   ],
   "source": [
    "df1.total_day_min .unique()"
   ]
  },
  {
   "cell_type": "code",
   "execution_count": 102,
   "metadata": {},
   "outputs": [
    {
     "data": {
      "text/plain": [
       "array([121.1, 259.3, 183.4, ..., 102. , 272.1, 191.2])"
      ]
     },
     "execution_count": 102,
     "metadata": {},
     "output_type": "execute_result"
    }
   ],
   "source": [
    "df2= df1[df1.total_day_min<500]\n",
    "df2= df2[df2.total_day_min>=0]\n",
    "df2.total_day_min.unique()"
   ]
  },
  {
   "cell_type": "code",
   "execution_count": 103,
   "metadata": {},
   "outputs": [
    {
     "data": {
      "text/plain": [
       "<matplotlib.collections.PathCollection at 0x1f39a914220>"
      ]
     },
     "execution_count": 103,
     "metadata": {},
     "output_type": "execute_result"
    },
    {
     "data": {
      "image/png": "[encoded data removed]",
      "text/plain": [
       "<Figure size 720x360 with 1 Axes>"
      ]
     },
     "metadata": {
      "needs_background": "light"
     },
     "output_type": "display_data"
    }
   ],
   "source": [
    "plt.scatter(df2['total_day_min'],df2['Churn'])"
   ]
  },
  {
   "cell_type": "markdown",
   "metadata": {},
   "source": [
    "### total day calls"
   ]
  },
  {
   "cell_type": "code",
   "execution_count": 104,
   "metadata": {},
   "outputs": [
    {
     "data": {
      "text/plain": [
       "array([121.1, 259.3, 183.4, ..., 102. , 272.1, 191.2])"
      ]
     },
     "execution_count": 104,
     "metadata": {},
     "output_type": "execute_result"
    }
   ],
   "source": [
    "df3= df2[df2.total_day_calls<500]\n",
    "df3.total_day_min.unique()"
   ]
  },
  {
   "cell_type": "code",
   "execution_count": 105,
   "metadata": {},
   "outputs": [
    {
     "data": {
      "text/plain": [
       "count    2307.000000\n",
       "mean      100.827048\n",
       "std        20.379721\n",
       "min         0.000000\n",
       "25%        87.000000\n",
       "50%       102.000000\n",
       "75%       115.000000\n",
       "max       165.000000\n",
       "Name: total_day_calls, dtype: float64"
      ]
     },
     "execution_count": 105,
     "metadata": {},
     "output_type": "execute_result"
    }
   ],
   "source": [
    "df3.total_day_calls.describe()"
   ]
  },
  {
   "cell_type": "markdown",
   "metadata": {},
   "source": [
    "### total day charge"
   ]
  },
  {
   "cell_type": "code",
   "execution_count": 106,
   "metadata": {},
   "outputs": [
    {
     "data": {
      "text/plain": [
       "array([20.59, 44.08, 31.18, ..., 17.34, 46.26, 34.62])"
      ]
     },
     "execution_count": 106,
     "metadata": {},
     "output_type": "execute_result"
    }
   ],
   "source": [
    "df4= df3[df3.total_day_charge>0]\n",
    "df4.total_day_charge.unique()"
   ]
  },
  {
   "cell_type": "code",
   "execution_count": 108,
   "metadata": {},
   "outputs": [
    {
     "data": {
      "text/plain": [
       "count    2300.000000\n",
       "mean       31.016913\n",
       "std         9.713589\n",
       "min         1.330000\n",
       "25%        24.495000\n",
       "50%        30.625000\n",
       "75%        37.592500\n",
       "max        60.960000\n",
       "Name: total_day_charge, dtype: float64"
      ]
     },
     "execution_count": 108,
     "metadata": {},
     "output_type": "execute_result"
    }
   ],
   "source": [
    "df4.total_day_charge.describe()"
   ]
  },
  {
   "cell_type": "markdown",
   "metadata": {},
   "source": [
    "### total eve mins"
   ]
  },
  {
   "cell_type": "code",
   "execution_count": 115,
   "metadata": {},
   "outputs": [
    {
     "data": {
      "text/plain": [
       "array([216. , 175.2, 269.1, ..., 154. , 229. , 270.1])"
      ]
     },
     "execution_count": 115,
     "metadata": {},
     "output_type": "execute_result"
    }
   ],
   "source": [
    "df5= df4[df4.total_eve_min<500]\n",
    "df5= df5[df5.total_eve_min>=0]\n",
    "df5.total_eve_min.unique()"
   ]
  },
  {
   "cell_type": "code",
   "execution_count": 116,
   "metadata": {},
   "outputs": [
    {
     "data": {
      "text/plain": [
       "count    2295.000000\n",
       "mean      201.506754\n",
       "std        50.963315\n",
       "min         0.000000\n",
       "25%       165.950000\n",
       "50%       202.400000\n",
       "75%       236.400000\n",
       "max       358.500000\n",
       "Name: total_eve_min, dtype: float64"
      ]
     },
     "execution_count": 116,
     "metadata": {},
     "output_type": "execute_result"
    }
   ],
   "source": [
    "df5.total_eve_min.describe()"
   ]
  },
  {
   "cell_type": "markdown",
   "metadata": {},
   "source": [
    "### total eve calls"
   ]
  },
  {
   "cell_type": "code",
   "execution_count": 118,
   "metadata": {},
   "outputs": [
    {
     "data": {
      "text/plain": [
       "count    2290.000000\n",
       "mean      100.208734\n",
       "std        19.841423\n",
       "min         0.000000\n",
       "25%        87.000000\n",
       "50%       101.000000\n",
       "75%       114.000000\n",
       "max       170.000000\n",
       "Name: total_eve_calls, dtype: float64"
      ]
     },
     "execution_count": 118,
     "metadata": {},
     "output_type": "execute_result"
    }
   ],
   "source": [
    "df6= df5[df5.total_eve_calls>=0]\n",
    "df6.total_eve_calls.describe()"
   ]
  },
  {
   "cell_type": "markdown",
   "metadata": {},
   "source": [
    "### total night mins"
   ]
  },
  {
   "cell_type": "code",
   "execution_count": 120,
   "metadata": {},
   "outputs": [
    {
     "data": {
      "text/plain": [
       "count    2288.000000\n",
       "mean      201.191827\n",
       "std        50.661764\n",
       "min        23.200000\n",
       "25%       167.500000\n",
       "50%       201.100000\n",
       "75%       235.225000\n",
       "max       395.000000\n",
       "Name: total_night_minutes, dtype: float64"
      ]
     },
     "execution_count": 120,
     "metadata": {},
     "output_type": "execute_result"
    }
   ],
   "source": [
    "df7= df6[df6.total_night_minutes<500]\n",
    "df7.total_night_minutes.describe()"
   ]
  },
  {
   "cell_type": "markdown",
   "metadata": {},
   "source": [
    "### total night charge"
   ]
  },
  {
   "cell_type": "code",
   "execution_count": 121,
   "metadata": {},
   "outputs": [
    {
     "data": {
      "text/plain": [
       "count    2285.000000\n",
       "mean        9.054818\n",
       "std         2.278884\n",
       "min         1.040000\n",
       "25%         7.540000\n",
       "50%         9.050000\n",
       "75%        10.590000\n",
       "max        17.770000\n",
       "Name: total_night_charge, dtype: float64"
      ]
     },
     "execution_count": 121,
     "metadata": {},
     "output_type": "execute_result"
    }
   ],
   "source": [
    "df8= df7[df7.total_night_charge<200]\n",
    "df8.total_night_charge.describe()"
   ]
  },
  {
   "cell_type": "markdown",
   "metadata": {},
   "source": [
    "### total intl mins"
   ]
  },
  {
   "cell_type": "code",
   "execution_count": 122,
   "metadata": {},
   "outputs": [
    {
     "data": {
      "text/plain": [
       "count    2282.000000\n",
       "mean       10.273094\n",
       "std         2.711733\n",
       "min         0.000000\n",
       "25%         8.600000\n",
       "50%        10.300000\n",
       "75%        12.000000\n",
       "max        18.300000\n",
       "Name: total_intl_minutes, dtype: float64"
      ]
     },
     "execution_count": 122,
     "metadata": {},
     "output_type": "execute_result"
    }
   ],
   "source": [
    "df9 = df8[df8.total_intl_minutes>=0]\n",
    "df9.total_intl_minutes.describe()"
   ]
  },
  {
   "cell_type": "markdown",
   "metadata": {},
   "source": [
    "## Visualization after removing outliers"
   ]
  },
  {
   "cell_type": "code",
   "execution_count": 123,
   "metadata": {},
   "outputs": [
    {
     "data": {
      "text/plain": [
       "Text(0.5, 1.0, 'voice_mail_plan')"
      ]
     },
     "execution_count": 123,
     "metadata": {},
     "output_type": "execute_result"
    },
    {
     "data": {
      "image/png": "[encoded data removed]",
      "text/plain": [
       "<Figure size 1440x1440 with 18 Axes>"
      ]
     },
     "metadata": {
      "needs_background": "light"
     },
     "output_type": "display_data"
    }
   ],
   "source": [
    "fig, ax  = plt.subplots(9,2,figsize = (20,20),sharey=True)\n",
    "\n",
    "ax[0][0].scatter(df9['number_vm_messages'],df9['Churn'])\n",
    "ax[0][0].set_title(\"number_vm_messages\")\n",
    "\n",
    "ax[0][1].scatter(df9['total_day_min'],df9['Churn'])\n",
    "ax[0][1].set_title(\"total_day_min\")\n",
    "\n",
    "ax[1][0].scatter(df9['total_day_calls'],df9['Churn'])\n",
    "ax[1][0].set_title(\"total_day_calls\")\n",
    "\n",
    "ax[1][1].scatter(df9['total_day_charge'],df9['Churn'])\n",
    "ax[1][1].set_title(\"total_day_charge\")\n",
    "\n",
    "ax[2][0].scatter(df9['total_eve_min'],df9['Churn'])\n",
    "ax[2][0].set_title(\"total_eve_min\")\n",
    "\n",
    "ax[2][1].scatter(df9['total_eve_calls'],df9['Churn'])\n",
    "ax[2][1].set_title(\"total_eve_calls\")\n",
    "\n",
    "ax[3][0].scatter(df9['total_eve_charge'],df9['Churn'])\n",
    "ax[3][0].set_title(\"total_eve_charge\")\n",
    "\n",
    "ax[3][1].scatter(df9['total_night_minutes'],df9['Churn'])\n",
    "ax[3][1].set_title(\"total_night_minutes\")\n",
    "\n",
    "ax[4][0].scatter(df9['total_night_calls'],df9['Churn'])\n",
    "ax[4][0].set_title(\"total_night_calls\")\n",
    "\n",
    "ax[4][1].scatter(df9['total_night_charge'],df9['Churn'])\n",
    "ax[4][1].set_title(\"total_night_charge\")\n",
    "\n",
    "ax[5][0].scatter(df9['total_intl_minutes'],df9['Churn'])\n",
    "ax[5][0].set_title(\"total_intl_minutes\")\n",
    "\n",
    "ax[5][1].scatter(df['total_intl_calls'],df['Churn'])\n",
    "ax[5][1].set_title(\"total_intl_calls\")\n",
    "\n",
    "ax[6][0].scatter(df9['total_intl_charge'],df9['Churn'])\n",
    "ax[6][0].set_title(\"total_intl_charge\")\n",
    "\n",
    "ax[6][1].scatter(df9['customer_service_calls'],df9['Churn'])\n",
    "ax[6][1].set_title(\"customer_service_calls \")\n",
    "\n",
    "ax[7][0].scatter(df9['account_length'],df9['Churn'])\n",
    "ax[7][0].set_title(\"account_length\")\n",
    "\n",
    "ax[7][1].scatter(df9['location_code'],df9['Churn'])\n",
    "ax[7][1].set_title(\"location_code\")\n",
    "\n",
    "ax[8][0].scatter(df9['intertiol_plan'],df9['Churn'])\n",
    "ax[8][0].set_title(\"international_plan \")\n",
    "\n",
    "ax[8][1].scatter(df9['voice_mail_plan'],df9['Churn'])\n",
    "ax[8][1].set_title(\"voice_mail_plan\")"
   ]
  },
  {
   "cell_type": "code",
   "execution_count": null,
   "metadata": {},
   "outputs": [],
   "source": []
  }
 ],
 "metadata": {
  "kernelspec": {
   "display_name": "Python 3.9.1 64-bit",
   "language": "python",
   "name": "python3"
  },
  "language_info": {
   "codemirror_mode": {
    "name": "ipython",
    "version": 3
   },
   "file_extension": ".py",
   "mimetype": "text/x-python",
   "name": "python",
   "nbconvert_exporter": "python",
   "pygments_lexer": "ipython3",
   "version": "3.9.1"
  },
  "orig_nbformat": 4,
  "vscode": {
   "interpreter": {
    "hash": "be418f690d7483e3f66990d05bcbe202589c12722c33632d91be0041140e2091"
   }
  }
 },
 "nbformat": 4,
 "nbformat_minor": 2
}
